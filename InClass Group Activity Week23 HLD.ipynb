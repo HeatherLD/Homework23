{
 "cells": [
  {
   "cell_type": "markdown",
   "id": "0ed13af3",
   "metadata": {},
   "source": [
    "# InClass Group Activity, Week 23, Heather Leighton-Dick"
   ]
  },
  {
   "cell_type": "markdown",
   "id": "e9585867",
   "metadata": {},
   "source": [
    "## 1. Expand the flask app from class to add functions to create, update, and delete records. Use the mongodb documentation https://docs.mongodb.com/manual/reference/ . The \"create\" method can use insert_one, \"update\" can use update_one, and \"delete\" can use delete_one."
   ]
  },
  {
   "cell_type": "code",
   "execution_count": 1,
   "id": "fef0545d",
   "metadata": {},
   "outputs": [],
   "source": [
    "import pymongo\n",
    "import datetime\n",
    "\n",
    "#connect to mongodb on default port\n",
    "conn='mongodb://localhost:27017'\n",
    "client=pymongo.MongoClient(conn)\n",
    "\n",
    "#create a database\n",
    "sdb = client.shows_db\n",
    "\n",
    "#create a collection in that DB\n",
    "tv_shows = sdb.tv_shows"
   ]
  },
  {
   "cell_type": "code",
   "execution_count": 2,
   "id": "cd73f2c7",
   "metadata": {},
   "outputs": [
    {
     "data": {
      "text/plain": [
       "<pymongo.results.InsertOneResult at 0x7f84aa17df00>"
      ]
     },
     "execution_count": 2,
     "metadata": {},
     "output_type": "execute_result"
    }
   ],
   "source": [
    "#CREATE\n",
    "post_data = {'name':'My Life is Murder',\n",
    "            'seasons':2,\n",
    "             'duration':'45 minutes',\n",
    "             'year':2019,\n",
    "             'date_added':datetime.datetime.utcnow()\n",
    "            }\n",
    "\n",
    "tv_shows.insert_one(post_data)"
   ]
  },
  {
   "cell_type": "code",
   "execution_count": null,
   "id": "66a4935b",
   "metadata": {},
   "outputs": [],
   "source": [
    "#READ\n",
    "results= tv_shows.find()\n",
    "for result in results:\n",
    "    print(result)"
   ]
  },
  {
   "cell_type": "code",
   "execution_count": 3,
   "id": "3afd8945",
   "metadata": {},
   "outputs": [
    {
     "data": {
      "text/plain": [
       "<pymongo.results.DeleteResult at 0x7f84aa1818c0>"
      ]
     },
     "execution_count": 3,
     "metadata": {},
     "output_type": "execute_result"
    }
   ],
   "source": [
    "#DELETE\n",
    "tv_shows.delete_one({'name':'Deamon Slayer'})"
   ]
  },
  {
   "cell_type": "code",
   "execution_count": null,
   "id": "bdc5ac0e",
   "metadata": {},
   "outputs": [],
   "source": [
    "show_name = input(\"what show are you watching?\")"
   ]
  },
  {
   "cell_type": "markdown",
   "id": "1cc994fb",
   "metadata": {},
   "source": [
    "### My 3 methods:\n",
    "### CREATE"
   ]
  },
  {
   "cell_type": "code",
   "execution_count": 4,
   "id": "0987ca11",
   "metadata": {},
   "outputs": [
    {
     "data": {
      "text/plain": [
       "<pymongo.results.InsertOneResult at 0x7f84b838ba80>"
      ]
     },
     "execution_count": 4,
     "metadata": {},
     "output_type": "execute_result"
    }
   ],
   "source": [
    "#CREATE\n",
    "post_data = {'name':'The Great Pottery Throw Down',\n",
    "            'seasons':5,\n",
    "             'duration':'60 minutes',\n",
    "             'year':2015,\n",
    "             'date_added':datetime.datetime.utcnow()\n",
    "            }\n",
    "\n",
    "tv_shows.insert_one(post_data)"
   ]
  },
  {
   "cell_type": "code",
   "execution_count": 5,
   "id": "ad533c7e",
   "metadata": {},
   "outputs": [
    {
     "data": {
      "text/plain": [
       "<pymongo.results.InsertOneResult at 0x7f84b81e9600>"
      ]
     },
     "execution_count": 5,
     "metadata": {},
     "output_type": "execute_result"
    }
   ],
   "source": [
    "#CREATE\n",
    "post_data = {'name':'The REPAIR SHOP',\n",
    "            'seasons':9,\n",
    "             'duration':'30 minutes',\n",
    "             'year':2017,\n",
    "             'date_added':datetime.datetime.utcnow()\n",
    "            }\n",
    "\n",
    "tv_shows.insert_one(post_data)"
   ]
  },
  {
   "cell_type": "code",
   "execution_count": 6,
   "id": "739d7bad",
   "metadata": {},
   "outputs": [
    {
     "data": {
      "text/plain": [
       "<pymongo.results.InsertOneResult at 0x7f84aa181800>"
      ]
     },
     "execution_count": 6,
     "metadata": {},
     "output_type": "execute_result"
    }
   ],
   "source": [
    "#CREATE\n",
    "post_data = {'name':'Star Trek: Discovery',\n",
    "            'seasons':5,\n",
    "             'duration':'45 minutes',\n",
    "             'year':2017,\n",
    "             'date_added':datetime.datetime.utcnow()\n",
    "            }\n",
    "\n",
    "tv_shows.insert_one(post_data)"
   ]
  },
  {
   "cell_type": "code",
   "execution_count": 7,
   "id": "d7b3b3cf",
   "metadata": {},
   "outputs": [
    {
     "name": "stdout",
     "output_type": "stream",
     "text": [
      "{'_id': ObjectId('6220360382df8b5d7c99c8cb'), 'name': 'My Life is Murder', 'seasons': 2, 'duration': '45 minutes', 'year': 2019, 'date_added': datetime.datetime(2022, 3, 3, 3, 29, 7, 564000)}\n",
      "{'_id': ObjectId('62227d9d82df8b5d7c99c8cd'), 'name': 'The Great Pottery Throw Down', 'seasons': 5, 'duration': '60 minutes', 'year': 2015, 'date_added': datetime.datetime(2022, 3, 4, 20, 59, 9, 856000)}\n",
      "{'_id': ObjectId('62227e7d82df8b5d7c99c8ce'), 'name': 'The Repair Shop', 'seasons': 9, 'duration': '30 minutes', 'year': 2017, 'date_added': datetime.datetime(2022, 3, 4, 21, 2, 53, 423000)}\n",
      "{'_id': ObjectId('62227edc82df8b5d7c99c8cf'), 'name': 'Star Trek: Discovery', 'seasons': 5, 'duration': '45 minutes', 'year': 2017, 'date_added': datetime.datetime(2022, 3, 4, 21, 4, 28, 926000)}\n",
      "{'_id': ObjectId('6222991b82df8b5d7c99c8d2'), 'name': 'My Life is Murder', 'seasons': 2, 'duration': '45 minutes', 'year': 2019, 'date_added': datetime.datetime(2022, 3, 4, 22, 56, 27, 761000)}\n",
      "{'_id': ObjectId('6222994ada4f8488fe8aa279'), 'name': 'My Life is Murder', 'seasons': 2, 'duration': '45 minutes', 'year': 2019, 'date_added': datetime.datetime(2022, 3, 4, 22, 57, 14, 778000)}\n",
      "{'_id': ObjectId('62229960da4f8488fe8aa27a'), 'name': 'The Great Pottery Throw Down', 'seasons': 5, 'duration': '60 minutes', 'year': 2015, 'date_added': datetime.datetime(2022, 3, 4, 22, 57, 36, 548000)}\n",
      "{'_id': ObjectId('62229962da4f8488fe8aa27b'), 'name': 'The REPAIR SHOP', 'seasons': 9, 'duration': '30 minutes', 'year': 2017, 'date_added': datetime.datetime(2022, 3, 4, 22, 57, 38, 174000)}\n",
      "{'_id': ObjectId('62229964da4f8488fe8aa27c'), 'name': 'Star Trek: Discovery', 'seasons': 5, 'duration': '45 minutes', 'year': 2017, 'date_added': datetime.datetime(2022, 3, 4, 22, 57, 40, 924000)}\n",
      "{'_id': ObjectId('62229ad4298e02af353e7ab4'), 'name': 'My Life is Murder', 'seasons': 2, 'duration': '45 minutes', 'year': 2019, 'date_added': datetime.datetime(2022, 3, 4, 23, 3, 48, 883000)}\n",
      "{'_id': ObjectId('62229adf298e02af353e7ab5'), 'name': 'The Great Pottery Throw Down', 'seasons': 5, 'duration': '60 minutes', 'year': 2015, 'date_added': datetime.datetime(2022, 3, 4, 23, 3, 59, 47000)}\n",
      "{'_id': ObjectId('62229ae1298e02af353e7ab6'), 'name': 'The REPAIR SHOP', 'seasons': 9, 'duration': '30 minutes', 'year': 2017, 'date_added': datetime.datetime(2022, 3, 4, 23, 4, 1, 912000)}\n",
      "{'_id': ObjectId('62229ae2298e02af353e7ab7'), 'name': 'Star Trek: Discovery', 'seasons': 5, 'duration': '45 minutes', 'year': 2017, 'date_added': datetime.datetime(2022, 3, 4, 23, 4, 2, 986000)}\n"
     ]
    }
   ],
   "source": [
    "#READ\n",
    "results= tv_shows.find()\n",
    "for result in results:\n",
    "    print(result)"
   ]
  },
  {
   "cell_type": "markdown",
   "id": "1a3b089f",
   "metadata": {},
   "source": [
    "### UPDATE"
   ]
  },
  {
   "cell_type": "code",
   "execution_count": null,
   "id": "aea09132",
   "metadata": {},
   "outputs": [],
   "source": [
    "#UPDATE\n",
    "#syntax: db.collection.update_one(filter, update, options)\n",
    "\n",
    "tv_shows.update_one({\"name\":\"The REPAIR SHOP\"}, { \"$set\":{\"name\":\"The Repair Shop\"}})"
   ]
  },
  {
   "cell_type": "code",
   "execution_count": null,
   "id": "070f177d",
   "metadata": {},
   "outputs": [],
   "source": [
    "#READ\n",
    "results= tv_shows.find()\n",
    "for result in results:\n",
    "    print(result)"
   ]
  },
  {
   "cell_type": "markdown",
   "id": "04e54e12",
   "metadata": {},
   "source": [
    "### DELETE"
   ]
  },
  {
   "cell_type": "code",
   "execution_count": 8,
   "id": "8e072d2e",
   "metadata": {},
   "outputs": [
    {
     "data": {
      "text/plain": [
       "<pymongo.results.DeleteResult at 0x7f84a9e97ec0>"
      ]
     },
     "execution_count": 8,
     "metadata": {},
     "output_type": "execute_result"
    }
   ],
   "source": [
    "tv_shows.delete_one({'_id': '62229962da4f8488fe8aa27b'})"
   ]
  },
  {
   "cell_type": "code",
   "execution_count": 9,
   "id": "0af7a9be",
   "metadata": {},
   "outputs": [
    {
     "name": "stdout",
     "output_type": "stream",
     "text": [
      "{'_id': ObjectId('6220360382df8b5d7c99c8cb'), 'name': 'My Life is Murder', 'seasons': 2, 'duration': '45 minutes', 'year': 2019, 'date_added': datetime.datetime(2022, 3, 3, 3, 29, 7, 564000)}\n",
      "{'_id': ObjectId('62227d9d82df8b5d7c99c8cd'), 'name': 'The Great Pottery Throw Down', 'seasons': 5, 'duration': '60 minutes', 'year': 2015, 'date_added': datetime.datetime(2022, 3, 4, 20, 59, 9, 856000)}\n",
      "{'_id': ObjectId('62227e7d82df8b5d7c99c8ce'), 'name': 'The Repair Shop', 'seasons': 9, 'duration': '30 minutes', 'year': 2017, 'date_added': datetime.datetime(2022, 3, 4, 21, 2, 53, 423000)}\n",
      "{'_id': ObjectId('62227edc82df8b5d7c99c8cf'), 'name': 'Star Trek: Discovery', 'seasons': 5, 'duration': '45 minutes', 'year': 2017, 'date_added': datetime.datetime(2022, 3, 4, 21, 4, 28, 926000)}\n",
      "{'_id': ObjectId('6222991b82df8b5d7c99c8d2'), 'name': 'My Life is Murder', 'seasons': 2, 'duration': '45 minutes', 'year': 2019, 'date_added': datetime.datetime(2022, 3, 4, 22, 56, 27, 761000)}\n",
      "{'_id': ObjectId('6222994ada4f8488fe8aa279'), 'name': 'My Life is Murder', 'seasons': 2, 'duration': '45 minutes', 'year': 2019, 'date_added': datetime.datetime(2022, 3, 4, 22, 57, 14, 778000)}\n",
      "{'_id': ObjectId('62229960da4f8488fe8aa27a'), 'name': 'The Great Pottery Throw Down', 'seasons': 5, 'duration': '60 minutes', 'year': 2015, 'date_added': datetime.datetime(2022, 3, 4, 22, 57, 36, 548000)}\n",
      "{'_id': ObjectId('62229962da4f8488fe8aa27b'), 'name': 'The REPAIR SHOP', 'seasons': 9, 'duration': '30 minutes', 'year': 2017, 'date_added': datetime.datetime(2022, 3, 4, 22, 57, 38, 174000)}\n",
      "{'_id': ObjectId('62229964da4f8488fe8aa27c'), 'name': 'Star Trek: Discovery', 'seasons': 5, 'duration': '45 minutes', 'year': 2017, 'date_added': datetime.datetime(2022, 3, 4, 22, 57, 40, 924000)}\n",
      "{'_id': ObjectId('62229ad4298e02af353e7ab4'), 'name': 'My Life is Murder', 'seasons': 2, 'duration': '45 minutes', 'year': 2019, 'date_added': datetime.datetime(2022, 3, 4, 23, 3, 48, 883000)}\n",
      "{'_id': ObjectId('62229adf298e02af353e7ab5'), 'name': 'The Great Pottery Throw Down', 'seasons': 5, 'duration': '60 minutes', 'year': 2015, 'date_added': datetime.datetime(2022, 3, 4, 23, 3, 59, 47000)}\n",
      "{'_id': ObjectId('62229ae1298e02af353e7ab6'), 'name': 'The REPAIR SHOP', 'seasons': 9, 'duration': '30 minutes', 'year': 2017, 'date_added': datetime.datetime(2022, 3, 4, 23, 4, 1, 912000)}\n",
      "{'_id': ObjectId('62229ae2298e02af353e7ab7'), 'name': 'Star Trek: Discovery', 'seasons': 5, 'duration': '45 minutes', 'year': 2017, 'date_added': datetime.datetime(2022, 3, 4, 23, 4, 2, 986000)}\n"
     ]
    }
   ],
   "source": [
    "#READ\n",
    "results= tv_shows.find()\n",
    "for result in results:\n",
    "    print(result)"
   ]
  },
  {
   "cell_type": "code",
   "execution_count": null,
   "id": "9aac97bc",
   "metadata": {},
   "outputs": [],
   "source": []
  }
 ],
 "metadata": {
  "language_info": {
   "codemirror_mode": {
    "name": "ipython",
    "version": 3
   },
   "file_extension": ".py",
   "mimetype": "text/x-python",
   "name": "python",
   "nbconvert_exporter": "python",
   "pygments_lexer": "ipython3",
   "version": "3.9.7"
  }
 },
 "nbformat": 4,
 "nbformat_minor": 5
}
